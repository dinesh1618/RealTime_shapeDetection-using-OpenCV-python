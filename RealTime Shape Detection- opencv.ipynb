{
 "cells": [
  {
   "cell_type": "code",
   "execution_count": 1,
   "metadata": {},
   "outputs": [],
   "source": [
    "import cv2\n",
    "import numpy as np"
   ]
  },
  {
   "cell_type": "code",
   "execution_count": null,
   "metadata": {},
   "outputs": [],
   "source": []
  },
  {
   "cell_type": "code",
   "execution_count": null,
   "metadata": {},
   "outputs": [],
   "source": []
  },
  {
   "cell_type": "code",
   "execution_count": null,
   "metadata": {},
   "outputs": [],
   "source": []
  },
  {
   "cell_type": "code",
   "execution_count": 2,
   "metadata": {},
   "outputs": [],
   "source": [
    "def ImageStaking(images):\n",
    "    rows = len(images)\n",
    "    cols = len(images[0])\n",
    "    for i in range(rows):\n",
    "        for j in range(cols):\n",
    "            images[i][j] = cv2.resize(images[i][j], (250, 250))\n",
    "            if len(images[i][j].shape) == 2:\n",
    "                images[i][j] = cv2.cvtColor(images[i][j], cv2.COLOR_GRAY2BGR)\n",
    "    imgBlank = np.zeros((250, 250), np.uint32)\n",
    "    hor = [imgBlank]*rows\n",
    "    for i in range(rows):\n",
    "        hor[i] = np.hstack(images[i])\n",
    "    ver = np.vstack(hor)\n",
    "    return ver"
   ]
  },
  {
   "cell_type": "code",
   "execution_count": null,
   "metadata": {},
   "outputs": [],
   "source": []
  },
  {
   "cell_type": "code",
   "execution_count": null,
   "metadata": {},
   "outputs": [],
   "source": []
  },
  {
   "cell_type": "code",
   "execution_count": 6,
   "metadata": {},
   "outputs": [],
   "source": [
    "def empty(a):\n",
    "    pass\n",
    "img = cv2.imread(\"dustbin2.jpg\")\n",
    "cv2.namedWindow(\"Parameters\")\n",
    "cv2.resizeWindow(\"Parameters\", (400, 300))\n",
    "cv2.createTrackbar(\"Threshold1\", \"Parameters\", 150, 255, empty)\n",
    "cv2.createTrackbar(\"Threshold2\", \"Parameters\", 255, 255, empty)\n",
    "\n",
    "\n",
    "def getContours(img, imgcontours):\n",
    "    contours, hierarchy = cv2.findContours(img, cv2.RETR_EXTERNAL, cv2.CHAIN_APPROX_NONE)\n",
    "    for cnt in contours:\n",
    "        area = cv2.contourArea(cnt)\n",
    "        if area > 30261:\n",
    "            cv2.drawContours(imgcontours, contours, -1, (0, 255, 0), 3)\n",
    "            peri = cv2.arcLength(cnt, True)\n",
    "            approx = cv2.approxPolyDP(cnt, 0.02 * peri, True)\n",
    "            x, y, w, h = cv2.boundingRect(approx)\n",
    "            cv2.rectangle(imgcontours, (x, y), (x + w, y + h), (255, 0, 0), 3)\n",
    "            cv2.putText(imgcontours, \"Points: \" + str(len(approx)), (x + w - 30, y + 20), cv2.FONT_HERSHEY_PLAIN, 1, (0, 0, 255), 2)\n",
    "\n",
    "while True:\n",
    "    imgcontours = img.copy()\n",
    "    imgBlur = cv2.GaussianBlur(img, (5, 5), 1)\n",
    "    imgGray = cv2.cvtColor(imgBlur, cv2.COLOR_BGR2GRAY)\n",
    "    threshold1 = cv2.getTrackbarPos(\"Threshold1\", \"Parameters\")\n",
    "    threshold2 = cv2.getTrackbarPos(\"Threshold2\", \"Parameters\")\n",
    "    imgCanny = cv2.Canny(imgGray, threshold1, threshold2)\n",
    "    kernal = np.ones((5, 5))\n",
    "    imgDail = cv2.dilate(imgCanny, kernal, iterations=1)\n",
    "    getContours(imgDail, imgcontours)\n",
    "    staked = ImageStaking([[imgCanny, imgDail, imgcontours]])\n",
    "    cv2.imshow(\"Result\", staked)\n",
    "    if cv2.waitKey(1) & 0XFF == ord(\"q\"):\n",
    "        break\n",
    "cv2.destroyAllWindows()"
   ]
  },
  {
   "cell_type": "code",
   "execution_count": null,
   "metadata": {},
   "outputs": [],
   "source": []
  },
  {
   "cell_type": "code",
   "execution_count": null,
   "metadata": {},
   "outputs": [],
   "source": []
  },
  {
   "cell_type": "code",
   "execution_count": null,
   "metadata": {},
   "outputs": [],
   "source": []
  },
  {
   "cell_type": "code",
   "execution_count": null,
   "metadata": {},
   "outputs": [],
   "source": []
  },
  {
   "cell_type": "code",
   "execution_count": null,
   "metadata": {},
   "outputs": [],
   "source": []
  },
  {
   "cell_type": "code",
   "execution_count": null,
   "metadata": {},
   "outputs": [],
   "source": []
  },
  {
   "cell_type": "code",
   "execution_count": null,
   "metadata": {},
   "outputs": [],
   "source": []
  },
  {
   "cell_type": "code",
   "execution_count": null,
   "metadata": {},
   "outputs": [],
   "source": []
  },
  {
   "cell_type": "code",
   "execution_count": null,
   "metadata": {},
   "outputs": [],
   "source": []
  },
  {
   "cell_type": "code",
   "execution_count": null,
   "metadata": {},
   "outputs": [],
   "source": []
  },
  {
   "cell_type": "code",
   "execution_count": null,
   "metadata": {},
   "outputs": [],
   "source": []
  },
  {
   "cell_type": "code",
   "execution_count": null,
   "metadata": {},
   "outputs": [],
   "source": []
  },
  {
   "cell_type": "code",
   "execution_count": null,
   "metadata": {},
   "outputs": [],
   "source": []
  }
 ],
 "metadata": {
  "kernelspec": {
   "display_name": "Python 3",
   "language": "python",
   "name": "python3"
  },
  "language_info": {
   "codemirror_mode": {
    "name": "ipython",
    "version": 3
   },
   "file_extension": ".py",
   "mimetype": "text/x-python",
   "name": "python",
   "nbconvert_exporter": "python",
   "pygments_lexer": "ipython3",
   "version": "3.6.10"
  }
 },
 "nbformat": 4,
 "nbformat_minor": 5
}
